{
 "cells": [
  {
   "attachments": {},
   "cell_type": "markdown",
   "metadata": {},
   "source": [
    "# 3webアプリ作成"
   ]
  },
  {
   "attachments": {},
   "cell_type": "markdown",
   "metadata": {},
   "source": [
    "目次：https://docs.google.com/document/d/1eDw9PK5Ft0vImu81e7oERB_q-dZvxbFe8bGetZBgEEg/edit"
   ]
  },
  {
   "attachments": {},
   "cell_type": "markdown",
   "metadata": {},
   "source": [
    "### 3.3.3 課題"
   ]
  },
  {
   "attachments": {},
   "cell_type": "markdown",
   "metadata": {},
   "source": [
    "1. 天気予報：\n",
    "    - 天気情報をグラフ化して可視化してください\n",
    "    - 郵便局APIで作ってみましょう！\n",
    "1. Yahoo Finace：\n",
    "    - 上位100社から何社か抜粋し、売上推移をグラフで可視化してください。  \n",
    "    できるのであれば、その企業を指定できるとなおよしです\n",
    "    - 利益率が高いランキングだしてください\n",
    "1. SpeechRecognizer：\n",
    "    - pythonを起動しているPCのマイクではなく、ブラウザ上のマイクを使って音声認識をしてみましょう。\n",
    "1. GPT:\n",
    "    - 書かせたい内容を文章または箇条書きで要求出来るようにしてみよう。  \n",
    "    また、GPTから出力された記事内容をダウンロードできるボタンを設置してみよう。\n",
    "    - 自分でGPTアプリを作ってみよう。例えば「株GPT」「美男美女GPT」など"
   ]
  },
  {
   "attachments": {},
   "cell_type": "markdown",
   "metadata": {},
   "source": [
    "## 3.4 (Next Actionのために）自分でWebアプリを作る思考プロセスを学ぶ"
   ]
  },
  {
   "cell_type": "markdown",
   "metadata": {},
   "source": []
  },
  {
   "attachments": {},
   "cell_type": "markdown",
   "metadata": {},
   "source": [
    "\n",
    "\n",
    "### MVPを創る（0→1\n",
    "\n",
    "- 作りたいものを決める（箇条書き・手書き\n",
    "- 最低限の流れを考える（手書きで流れ書く\n",
    "- 最も小さい単位で流れを作ってみる（手書き→コーディング(Jupyter\n",
    "- 徐々に大きくする（コーディング(Jupyter→VS Code"
   ]
  },
  {
   "attachments": {},
   "cell_type": "markdown",
   "metadata": {},
   "source": [
    "### 3.4.1 アプリ実装\n",
    "\n",
    "- アーキテクチャを考える（手書き\n",
    "    1. フロント～バックDBまでのデータの移動を考える\n",
    "    2. 入力方法（フロントを考える）\n",
    "    3. やりたい事に近い技術的な解決するAPIやライブラリを探す\n",
    "    4. 解決方法を模索\n",
    "    5. ライブラリやAPIの仕様を見る\n",
    "    6. 土台のフレームワークと動作のAPIを別々で考えて、結合し、webアプリ完成を目指す\n",
    "    7. 仕様決定\n",
    "    8. 実装するサーバーを考える\n",
    "- コーディング"
   ]
  },
  {
   "attachments": {},
   "cell_type": "markdown",
   "metadata": {},
   "source": [
    "### 3.4.2 デプロイ\n",
    "\n",
    "- 簡易orテスト環境\n",
    "    - netlify\n",
    "    - streamlit cloud\n",
    "    - vercel\n",
    "- 本番環境\n",
    "    - AWS\n",
    "    - Azure\n",
    "    - GCP"
   ]
  },
  {
   "attachments": {},
   "cell_type": "markdown",
   "metadata": {},
   "source": [
    "<img src=\"pic/img037.png\">"
   ]
  },
  {
   "attachments": {},
   "cell_type": "markdown",
   "metadata": {},
   "source": [
    "参考：[https://business.ntt-east.co.jp/content/cloudsolution/column-374.html](https://business.ntt-east.co.jp/content/cloudsolution/column-374.html)\n",
    "\n",
    "※その他はwordpressサーバー"
   ]
  },
  {
   "attachments": {},
   "cell_type": "markdown",
   "metadata": {},
   "source": [
    "## 3.5 まとめ\n",
    "\n",
    "- Webアプリの知識・経験０からやってみてどうでしたか？感想やできるようになったことをノートかNotionにまとめましょう\n",
    "    - APIやマイクロフレームワークでの開発が早い事を体験\n",
    "    - 構成から公開まで一通りできるようになった\n",
    "    - MVPぐらいなら余裕になった\n",
    "- 自分で手を動かすことの大事さを学べましたね！\n",
    "- いま作りたいものを書き溜めておきましょう！"
   ]
  }
 ],
 "metadata": {
  "kernelspec": {
   "display_name": "base",
   "language": "python",
   "name": "python3"
  },
  "language_info": {
   "codemirror_mode": {
    "name": "ipython",
    "version": 3
   },
   "file_extension": ".py",
   "mimetype": "text/x-python",
   "name": "python",
   "nbconvert_exporter": "python",
   "pygments_lexer": "ipython3",
   "version": "3.8.16"
  },
  "orig_nbformat": 4,
  "vscode": {
   "interpreter": {
    "hash": "f9615d5aa5a330c24de68476d8cc9e13337aa201710c2e0802369a06b82c4cd2"
   }
  }
 },
 "nbformat": 4,
 "nbformat_minor": 2
}
