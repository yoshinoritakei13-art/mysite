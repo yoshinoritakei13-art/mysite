{
 "cells": [
  {
   "attachments": {},
   "cell_type": "markdown",
   "id": "c5c40a81",
   "metadata": {},
   "source": [
    "# 全体像マップ\n",
    "受講者に全体像を常に把握させる\n",
    "## タイトル「webブラウザで動作する音声認識アプリ」\n"
   ]
  },
  {
   "attachments": {},
   "cell_type": "markdown",
   "id": "65dd9e4b",
   "metadata": {},
   "source": [
    "jupyter上で音声認識してみましょう！  \n",
    "注意点としてマイクが必要です！"
   ]
  },
  {
   "cell_type": "code",
   "execution_count": 16,
   "id": "25eab43c",
   "metadata": {},
   "outputs": [
    {
     "name": "stdout",
     "output_type": "stream",
     "text": [
      "録音中: \n",
      "result2:\n",
      "{   'alternative': [{'confidence': 0.9614929, 'transcript': '音声認識 テスト'}],\n",
      "    'final': True}\n",
      "音声認識 テスト\n"
     ]
    }
   ],
   "source": [
    "import speech_recognition as sr\n",
    "\n",
    "r = sr.Recognizer()\n",
    "\n",
    "with sr.Microphone() as source:\n",
    "    print('録音中: ')\n",
    "    audio = r.listen(source)\n",
    "\n",
    "try:\n",
    "    text = r.recognize_google(audio, language='ja-JP')\n",
    "    print(text)\n",
    "except:\n",
    "    print(\"録音されていません\")"
   ]
  },
  {
   "cell_type": "code",
   "execution_count": 17,
   "id": "87674883",
   "metadata": {},
   "outputs": [
    {
     "data": {
      "text/plain": [
       "'音声認識 テスト'"
      ]
     },
     "execution_count": 17,
     "metadata": {},
     "output_type": "execute_result"
    }
   ],
   "source": [
    "text"
   ]
  },
  {
   "cell_type": "code",
   "execution_count": 22,
   "id": "4194930a",
   "metadata": {},
   "outputs": [
    {
     "name": "stdout",
     "output_type": "stream",
     "text": [
      "result2:\n",
      "{   'alternative': [{'confidence': 0.9614929, 'transcript': '音声認識のテスト'}],\n",
      "    'final': True}\n",
      "音声認識のテスト\n"
     ]
    }
   ],
   "source": [
    "audio_file = \"./sample.wav\"\n",
    "\n",
    "\n",
    "import speech_recognition as sr\n",
    "\n",
    "\n",
    "r = sr.Recognizer()\n",
    "\n",
    "with sr.AudioFile(audio_file) as source:\n",
    "    audio = r.record(source)\n",
    "\n",
    "try:\n",
    "    text = r.recognize_google(audio, language='ja')\n",
    "    print(text)\n",
    "except:\n",
    "    print(\"音声認識に失敗しました\")"
   ]
  },
  {
   "attachments": {},
   "cell_type": "markdown",
   "id": "de0287ad",
   "metadata": {},
   "source": [
    "アプリのようにファイル名と言語を選択して音声認識できるようにしてみましょう！"
   ]
  },
  {
   "attachments": {},
   "cell_type": "markdown",
   "id": "955f4f5f",
   "metadata": {},
   "source": [
    "jaなどの言語コードはISO639で決められています！  \n",
    "- https://www.benricho.org/translate/languagecode.html\n",
    "- https://www.loc.gov/standards/iso639-2/php/English_list.php"
   ]
  },
  {
   "cell_type": "code",
   "execution_count": 29,
   "id": "722c42b5",
   "metadata": {},
   "outputs": [
    {
     "name": "stdout",
     "output_type": "stream",
     "text": [
      "result2:\n",
      "{   'alternative': [{'confidence': 0.9614929, 'transcript': '音声認識のテスト'}],\n",
      "    'final': True}\n",
      "音声認識のテスト\n"
     ]
    }
   ],
   "source": [
    "audio_file = \"./sample.wav\"\n",
    "set_language = \"ja\"\n",
    "\n",
    "\n",
    "import speech_recognition as sr\n",
    "\n",
    "r = sr.Recognizer()\n",
    "\n",
    "with sr.AudioFile(audio_file) as source:\n",
    "    audio = r.record(source)\n",
    "\n",
    "try:\n",
    "    text = r.recognize_google(audio, language=set_language)\n",
    "    print(text)\n",
    "except:\n",
    "    print(\"音声認識に失敗しました\")"
   ]
  },
  {
   "attachments": {},
   "cell_type": "markdown",
   "id": "a1d9e7cf",
   "metadata": {},
   "source": [
    "関数として呼べるようにしましょう！"
   ]
  },
  {
   "cell_type": "code",
   "execution_count": 30,
   "id": "4b18fae8",
   "metadata": {},
   "outputs": [
    {
     "name": "stdout",
     "output_type": "stream",
     "text": [
      "result2:\n",
      "{   'alternative': [{'confidence': 0.9614929, 'transcript': '音声認識のテスト'}],\n",
      "    'final': True}\n",
      "音声認識のテスト\n"
     ]
    }
   ],
   "source": [
    "def file_speech_to_text(audio_file,set_language):\n",
    "    import speech_recognition as sr\n",
    "\n",
    "    r = sr.Recognizer()\n",
    "\n",
    "    with sr.AudioFile(audio_file) as source:\n",
    "        audio = r.record(source)\n",
    "\n",
    "    try:\n",
    "        text = r.recognize_google(audio, language=set_language)\n",
    "        print(text)\n",
    "    except:\n",
    "        print(\"音声認識に失敗しました\")\n",
    "    return text\n",
    "\n",
    "#ここまでメソッド\n",
    "\n",
    "# audio_file = \"./sample.wav\"\n",
    "# set_language = \"ja\"\n",
    "\n",
    "file_speech_to_text(\"./sample.wav\",\"ja\")"
   ]
  },
  {
   "cell_type": "code",
   "execution_count": 31,
   "id": "fd894351",
   "metadata": {},
   "outputs": [
    {
     "name": "stdout",
     "output_type": "stream",
     "text": [
      "result2:\n",
      "{   'alternative': [{'confidence': 0.9614929, 'transcript': '音声認識のテスト'}],\n",
      "    'final': True}\n",
      "音声認識のテスト\n"
     ]
    }
   ],
   "source": [
    "file_speech_to_text(\"./sample.wav\",\"ja\")"
   ]
  },
  {
   "attachments": {},
   "cell_type": "markdown",
   "id": "9c22f4fd",
   "metadata": {},
   "source": [
    "言語選択をわかりやすくしてみましょう！"
   ]
  },
  {
   "cell_type": "code",
   "execution_count": 32,
   "id": "bb3fb0f1",
   "metadata": {},
   "outputs": [],
   "source": [
    "set_language_list = {\n",
    "    \"日本語\" :\"ja\",\n",
    "    \"英語\" :\"en-US\",\n",
    "}"
   ]
  },
  {
   "cell_type": "code",
   "execution_count": 33,
   "id": "92a41147",
   "metadata": {},
   "outputs": [
    {
     "data": {
      "text/plain": [
       "'ja'"
      ]
     },
     "execution_count": 33,
     "metadata": {},
     "output_type": "execute_result"
    }
   ],
   "source": [
    "set_language_list[\"日本語\"]"
   ]
  },
  {
   "cell_type": "code",
   "execution_count": 35,
   "id": "189b007b",
   "metadata": {},
   "outputs": [
    {
     "name": "stdout",
     "output_type": "stream",
     "text": [
      "result2:\n",
      "{   'alternative': [{'confidence': 0.9614929, 'transcript': '音声認識のテスト'}],\n",
      "    'final': True}\n",
      "音声認識のテスト\n"
     ]
    }
   ],
   "source": [
    "file_speech_to_text(\"./sample.wav\",set_language_list[\"日本語\"])"
   ]
  },
  {
   "attachments": {},
   "cell_type": "markdown",
   "id": "504603c5",
   "metadata": {},
   "source": [
    "使いやすいように、言語選択も含めた関数化してみましょう！"
   ]
  },
  {
   "cell_type": "code",
   "execution_count": 49,
   "id": "d9c0ec77",
   "metadata": {},
   "outputs": [],
   "source": [
    "def file_speech_to_text(audio_file,set_language):\n",
    "    import speech_recognition as sr\n",
    "\n",
    "    set_language_list = {\n",
    "    \"日本語\" :\"ja\",\n",
    "    \"英語\" :\"en-US\",\n",
    "    }\n",
    "\n",
    "    r = sr.Recognizer()\n",
    "\n",
    "    with sr.AudioFile(audio_file) as source:\n",
    "        audio = r.record(source)\n",
    "\n",
    "    try:\n",
    "        text = r.recognize_google(audio, language=set_language_list[set_language])\n",
    "    except:\n",
    "        text = \"音声認識に失敗しました\"\n",
    "    return text"
   ]
  },
  {
   "cell_type": "code",
   "execution_count": 42,
   "id": "4911c36c",
   "metadata": {},
   "outputs": [
    {
     "name": "stdout",
     "output_type": "stream",
     "text": [
      "result2:\n",
      "{   'alternative': [{'confidence': 0.9614929, 'transcript': '音声認識のテスト'}],\n",
      "    'final': True}\n",
      "音声認識のテスト\n"
     ]
    }
   ],
   "source": [
    "test_text = file_speech_to_text(\"./sample.wav\",\"日本語\")"
   ]
  },
  {
   "cell_type": "code",
   "execution_count": 43,
   "id": "f803a863",
   "metadata": {},
   "outputs": [
    {
     "data": {
      "text/plain": [
       "'音声認識のテスト'"
      ]
     },
     "execution_count": 43,
     "metadata": {},
     "output_type": "execute_result"
    }
   ],
   "source": [
    "test_text"
   ]
  },
  {
   "attachments": {},
   "cell_type": "markdown",
   "id": "33e554a6",
   "metadata": {},
   "source": [
    "マイクからの音声認識も関数化してみましょう！"
   ]
  },
  {
   "cell_type": "code",
   "execution_count": 44,
   "id": "892536ec",
   "metadata": {},
   "outputs": [],
   "source": [
    "def mic_speech_to_text(set_language):\n",
    "    import speech_recognition as sr\n",
    "\n",
    "    set_language_list = {\n",
    "    \"日本語\" :\"ja\",\n",
    "    \"英語\" :\"en-US\",\n",
    "    }\n",
    "\n",
    "    r = sr.Recognizer()\n",
    "\n",
    "    with sr.Microphone() as source:\n",
    "        audio = r.listen(source)\n",
    "\n",
    "    try:\n",
    "        text = r.recognize_google(audio, language=set_language_list[set_language])\n",
    "    except:\n",
    "        text = \"音声認識に失敗しました\"\n",
    "    return text"
   ]
  },
  {
   "cell_type": "code",
   "execution_count": 51,
   "id": "b7b7ea2c",
   "metadata": {},
   "outputs": [
    {
     "name": "stdout",
     "output_type": "stream",
     "text": [
      "録音中\n",
      "録音中: \n",
      "result2:\n",
      "{   'alternative': [{'confidence': 0.9614929, 'transcript': '音声認識'}],\n",
      "    'final': True}\n",
      "音声認識\n",
      "完了しました\n"
     ]
    }
   ],
   "source": [
    "print(\"録音中\")\n",
    "test_text = mic_speech_to_text(\"日本語\")\n",
    "print(\"完了しました\")"
   ]
  },
  {
   "cell_type": "code",
   "execution_count": 52,
   "id": "1cd22d5a",
   "metadata": {},
   "outputs": [
    {
     "data": {
      "text/plain": [
       "'音声認識'"
      ]
     },
     "execution_count": 52,
     "metadata": {},
     "output_type": "execute_result"
    }
   ],
   "source": [
    "test_text"
   ]
  },
  {
   "attachments": {},
   "cell_type": "markdown",
   "id": "6f59cde3",
   "metadata": {},
   "source": [
    "app.pyファイルにstreamlitに音声認識を実装してみましょう！"
   ]
  },
  {
   "cell_type": "code",
   "execution_count": null,
   "id": "5728dae1",
   "metadata": {},
   "outputs": [],
   "source": [
    "# ここから初期設定\n",
    "# メソッド内の共通初期読み込みはすべてここで設定\n",
    "import streamlit as st\n",
    "import speech_recognition as sr\n",
    "\n",
    "set_language_list = {\n",
    "    \"日本語\" :\"ja\",\n",
    "    \"英語\" :\"en-US\",\n",
    "}\n",
    "set_language = \"日本語\" #デフォルトの設定\n",
    "r = sr.Recognizer()\n",
    "\n",
    "#ここまで初期設定\n",
    "\n",
    "# ここからメソッド\n",
    "def file_speech_to_text(audio_file,set_language):\n",
    "\n",
    "    with sr.AudioFile(audio_file) as source:\n",
    "        audio = r.record(source)\n",
    "\n",
    "    try:\n",
    "        text = r.recognize_google(audio, language=set_language_list[set_language])\n",
    "    except:\n",
    "        text = \"音声認識に失敗しました\"\n",
    "    return text\n",
    "\n",
    "def mic_speech_to_text(set_language):\n",
    "\n",
    "    with sr.Microphone() as source:\n",
    "        audio = r.listen(source)\n",
    "\n",
    "    try:\n",
    "        text = r.recognize_google(audio, language=set_language_list[set_language])\n",
    "    except:\n",
    "        text = \"音声認識に失敗しました\"\n",
    "    return text\n",
    "# ここまでメソッド\n",
    "\n",
    "#ここからstreamlitの内容\n",
    "\n",
    "st.title(\"文字起こしアプリ\")\n",
    "st.write(\"音声認識する言語を選んでください。\")\n",
    "set_language = st.selectbox(\"音声認識する言語を選んでください。\",set_language_list.keys())\n",
    "current_language_state = st.empty()\n",
    "current_language_state.write(\"選択中の言語:\" + set_language)\n",
    "file_upload = st.file_uploader(\"ここに音声認識したファイルをアップロードしてください。\",type=[\"wav\"])\n",
    "\n",
    "if (file_upload !=None):\n",
    "    \n",
    "    st.write(\"音声認識結果:\")\n",
    "    result_text = file_speech_to_text(file_upload,set_language)\n",
    "    st.write(result_text)\n",
    "    st.audio(file_upload)\n",
    "\n",
    "st.write(\"マイクでの音声認識はこちらのボタンから\")\n",
    "if st.button(\"音声認識開始\"):\n",
    "    state = st.empty()\n",
    "    state.write(\"音声認識中\")\n",
    "    result_text = mic_speech_to_text(set_language)\n",
    "    state.write(\"音声認識結果:\")\n",
    "    st.write(result_text)"
   ]
  },
  {
   "cell_type": "code",
   "execution_count": null,
   "id": "de3bac88",
   "metadata": {},
   "outputs": [],
   "source": []
  },
  {
   "cell_type": "code",
   "execution_count": null,
   "id": "abe45291",
   "metadata": {},
   "outputs": [],
   "source": []
  },
  {
   "cell_type": "code",
   "execution_count": null,
   "id": "3e35cae2",
   "metadata": {},
   "outputs": [],
   "source": []
  },
  {
   "cell_type": "code",
   "execution_count": null,
   "id": "05e72a3b",
   "metadata": {},
   "outputs": [],
   "source": []
  }
 ],
 "metadata": {
  "kernelspec": {
   "display_name": "Python 3.10.5 64-bit",
   "language": "python",
   "name": "python3"
  },
  "language_info": {
   "codemirror_mode": {
    "name": "ipython",
    "version": 3
   },
   "file_extension": ".py",
   "mimetype": "text/x-python",
   "name": "python",
   "nbconvert_exporter": "python",
   "pygments_lexer": "ipython3",
   "version": "3.10.5"
  },
  "vscode": {
   "interpreter": {
    "hash": "fb4569285eef3a3450cb62085a5b1e0da4bce0af555edc33dcf29baf3acc1368"
   }
  }
 },
 "nbformat": 4,
 "nbformat_minor": 5
}
