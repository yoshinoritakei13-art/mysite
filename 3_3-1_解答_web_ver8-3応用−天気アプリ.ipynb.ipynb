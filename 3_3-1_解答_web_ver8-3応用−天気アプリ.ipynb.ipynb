{
 "cells": [
  {
   "attachments": {},
   "cell_type": "markdown",
   "metadata": {},
   "source": [
    "# 3webアプリ作成"
   ]
  },
  {
   "attachments": {},
   "cell_type": "markdown",
   "metadata": {},
   "source": [
    "目次：https://docs.google.com/document/d/1eDw9PK5Ft0vImu81e7oERB_q-dZvxbFe8bGetZBgEEg/edit"
   ]
  },
  {
   "attachments": {},
   "cell_type": "markdown",
   "metadata": {},
   "source": [
    "## 3.3 応用実装"
   ]
  },
  {
   "attachments": {},
   "cell_type": "markdown",
   "metadata": {},
   "source": [
    "### 3.3.2 応用アプリ実装"
   ]
  },
  {
   "attachments": {},
   "cell_type": "markdown",
   "metadata": {},
   "source": [
    "#### ①天気アプリ\n",
    "\n",
    ">アプリの概要\n",
    "\n",
    "<img src=\"pic/img039.png\">  \n",
    "\n",
    "https://tenki-step2-ver6-sonl83xj4z.streamlit.app/\n",
    "\n",
    ">動作を構成してる部品の紹介（APIやライブラリ）\n",
    "\n",
    "API\n",
    "- 天気予報 API（livedoor 天気互換）\n",
    "    - 目的：天気の情報を0-6時、6-12時、12-18時、18-24時の4つに分けて降水確率を今日、明日、明後日の３日間の天気を返す\n",
    "    - 参考：https://weather.tsukumijima.net/\n",
    "\n",
    "ライブラリ\n",
    "- streamlit\n",
    "    - 目的：天気を表示するためのフロントエンドを生成する\n",
    "- requests\n",
    "    - 目的：天気情報のAPIをhttpリクエストするために使う\n",
    "- datetime\n",
    "    - 目的：現在時刻の取得や時間のフォーマットを活用するために使う\n",
    "- pandas\n",
    "    - 目的：天気APIで得られたデータを扱いやすくするために使う\n",
    "\n",
    ">ライブラリのインストール\n",
    "\n",
    "使用するライブラリ一覧\n",
    "- streamlit\n",
    "    - pip install streamlit\n",
    "- requests\n",
    "    - pip install requests\n",
    "- datetime\n",
    "    - Pythonの標準ライブラリなので、インストールはすでにされています。\n",
    "- pandas\n",
    "    - pip install pandas\n",
    "\n",
    ">ライブラリの公式ドキュメントの見方や使い方を説明\n",
    "\n",
    "- 天気API\n",
    "    - リクエストの仕方\n",
    "        - リクエストパラメータの項目で、例を見る\n",
    "    - 取得するデータ\n",
    "        - JSON データサンプルで得られるデータ一覧を見る。どこに欲しいデータが記載されているか確認\n",
    "    - 参考：https://weather.tsukumijima.net/\n",
    "\n",
    "\n",
    "ライブラリの詳細説明\n",
    "\n",
    "- streamlit\n",
    "    - インストール方法はget startページで確認\n",
    "    - 参考：https://docs.streamlit.io/library/get-started/installation\n",
    "    - st.titleなどはコンポーネントページから確認出来る\n",
    "    - 参考：https://streamlit.io/components\n",
    "- requests\n",
    "    - 楽天APIでやったrequests.get()です。\n",
    "    - 参考：https://pypi.org/project/requests/\n",
    "- datetime\n",
    "    - datetime.now()で現味時刻\n",
    "    - datetime.now().hourで現在時間のhourを取得できます。\n",
    "    - 参考：https://docs.python.org/ja/3/library/datetime.html\n",
    "- pandas\n",
    "    - pd.DataFrame()で使います。\n",
    "    - 参考：https://pandas.pydata.org/docs/"
   ]
  },
  {
   "attachments": {},
   "cell_type": "markdown",
   "metadata": {},
   "source": [
    ">それぞれの機能をjupyterで動く最小限を作る"
   ]
  },
  {
   "attachments": {},
   "cell_type": "markdown",
   "metadata": {},
   "source": [
    "以下がjuptyterにて動く最低限のアプリの流れです。\n",
    "\n",
    "1. 作るアプリの全体のコードを把握\n",
    "1. それぞれ機能を解説\n",
    "    1. 天気API\n",
    "    1. 現在時刻の取得"
   ]
  },
  {
   "attachments": {},
   "cell_type": "markdown",
   "metadata": {},
   "source": [
    "#### 1.全体のコード"
   ]
  },
  {
   "attachments": {},
   "cell_type": "markdown",
   "metadata": {},
   "source": [
    "使うアプリの全体像は下記のようになります。  \n",
    "これはweb上では動きませんが、手元では動作するアプリです。\n",
    "\n",
    "以下のコードの動作の流れ\n",
    "1. 拡張機能であるライブラリをインポート\n",
    "1. URLとcitycodeで、そのcitycodeの天気を取得するためのURLを作る\n",
    "1. requestsで天気APIにアクセスして天気情報を取得\n",
    "1. 取得した天気のデータを使って降水確率のデータを取得\n",
    "    1. 現在時刻を使って、現在の降水確率を取得\n",
    "    1. 今日、明日、明後日の３日分の降水確率を構造化データとして表示\n"
   ]
  },
  {
   "cell_type": "code",
   "execution_count": 5,
   "metadata": {},
   "outputs": [
    {
     "name": "stdout",
     "output_type": "stream",
     "text": [
      "天気アプリ\n",
      "東京の天気を表示しています。\n",
      "東京のcitycodeは130010です。\n",
      "現在の降水確率 : 20%\n",
      "    T00_06 T06_12 T12_18 T18_24\n",
      "今日     --%    --%    20%    70%\n",
      "明日     90%    60%    10%    10%\n",
      "明後日    50%    50%    50%    50%\n"
     ]
    }
   ],
   "source": [
    "import streamlit as st # フロントエンドを扱うstreamlitの機能をインポート\n",
    "import requests # リクエストするための機能をインポート\n",
    "from datetime import datetime # 現在時刻などの時間を扱う機能をインポート\n",
    "import pandas as pd # データフレームを扱う機能をインポート\n",
    "\n",
    "print(\"天気アプリ\")\n",
    "print(\"東京の天気を表示しています。\") \n",
    "print(\"東京のcitycodeは130010です。\") \n",
    "\n",
    "url = \"https://weather.tsukumijima.net/api/forecast/city/\" + \"130010\" # APIにリクエストするURLを作成　東京のcityコード\n",
    "\n",
    "response = requests.get(url) # 作成したリクエスト用URLでアクセスして、responseに代入\n",
    "\n",
    "weather_json = response.json() # responseにjson形式の天気のデータが返ってくるので、response.json()をweather_jsonに代入\n",
    "now_hour = datetime.now().hour # 現在の天気情報取得のために、現在時刻の時間をnow_hourに代入\n",
    "\n",
    "# 今日の天気はweather_json['forecasts'][0]['chanceOfRain']\n",
    "# 明日の天気はweather_json['forecasts'][1]['chanceOfRain']\n",
    "# 明後日の天気はweather_json['forecasts'][2]['chanceOfRain']\n",
    "# にそれぞれ格納されている\n",
    "\n",
    "# 天気の情報を0-6時、6-12時、12-18時、18-24時の4つに分けて降水確率を今日、明日、明後日の３日間の天気を返すため、場合分けする。\n",
    "if 0 <= now_hour and now_hour < 6:\n",
    "    weather_now = weather_json['forecasts'][0]['chanceOfRain']['T00_06'] # 今日の0-6時の降水確率を取得し、weather_nowに代入\n",
    "elif 6 <= now_hour and now_hour < 12:\n",
    "    weather_now = weather_json['forecasts'][0]['chanceOfRain']['T06_12'] # 今日の6-12時の降水確率を取得し、weather_nowに代入\n",
    "elif 12 <= now_hour and now_hour < 18:\n",
    "    weather_now = weather_json['forecasts'][0]['chanceOfRain']['T12_18'] # 今日の12-18時の降水確率を取得し、weather_nowに代入\n",
    "else:\n",
    "    weather_now = weather_json['forecasts'][0]['chanceOfRain']['T18_24'] # 今日の18-24時の降水確率を取得し、weather_nowに代入\n",
    "\n",
    "# 現在時刻の降水確率をweather_now_textに代入\n",
    "weather_now_text = \"現在の降水確率 : \" + weather_now\n",
    "print(weather_now_text) # 現在時刻の降水確率を表示\n",
    "\n",
    "# 今日、明日、明後日の降水確率をDadaFrameに代入\n",
    "df1 = pd.DataFrame(weather_json['forecasts'][0]['chanceOfRain'],index=[\"今日\"]) # index名を今日という文字列に設定\n",
    "df2 = pd.DataFrame(weather_json['forecasts'][1]['chanceOfRain'],index=[\"明日\"]) # index名を明日という文字列に設定\n",
    "df3 = pd.DataFrame(weather_json['forecasts'][2]['chanceOfRain'],index=[\"明後日\"]) # index名を明後日という文字列に設定\n",
    "\n",
    "df = pd.concat([df1,df2,df3]) # 今日、明日、明後日の降水確率を結合して一覧にしてdfに代入\n",
    "print(df) # 一覧にした降水確率を表示"
   ]
  },
  {
   "attachments": {},
   "cell_type": "markdown",
   "metadata": {},
   "source": [
    "2.それぞれ機能を解説"
   ]
  },
  {
   "cell_type": "markdown",
   "metadata": {},
   "source": [
    "<img src=\"pic/img045.png\"> "
   ]
  },
  {
   "attachments": {},
   "cell_type": "markdown",
   "metadata": {},
   "source": [
    "2.1天気APIの仕様"
   ]
  },
  {
   "cell_type": "markdown",
   "metadata": {},
   "source": [
    "<img src=\"pic/img046.png\">"
   ]
  },
  {
   "attachments": {},
   "cell_type": "markdown",
   "metadata": {},
   "source": [
    "天気APIは、URLの末尾で取得する天気を変更できます。\n",
    "\n",
    "例：  \n",
    "https://weather.tsukumijima.net/api/forecast/city/130010　で東京の天気を取得  \n",
    "https://weather.tsukumijima.net/api/forecast/city/270000　で大阪の天気を取得  "
   ]
  },
  {
   "attachments": {},
   "cell_type": "markdown",
   "metadata": {},
   "source": [
    "なので、東京の天気の場合は、  "
   ]
  },
  {
   "cell_type": "code",
   "execution_count": 6,
   "metadata": {},
   "outputs": [
    {
     "data": {
      "text/plain": [
       "<Response [200]>"
      ]
     },
     "execution_count": 6,
     "metadata": {},
     "output_type": "execute_result"
    }
   ],
   "source": [
    "#htttps://weather.tsukumijima.net/api/forecast/city/ + citycode（東京の場合は130010）でリクエストすると、天気の情報が返ってくる\n",
    "requests.get(\"https://weather.tsukumijima.net/api/forecast/city/130010\")"
   ]
  },
  {
   "attachments": {},
   "cell_type": "markdown",
   "metadata": {},
   "source": [
    "で取得することができます！  \n",
    "jsonというテータ形式で返ってくるので、.json()をつけてpythonが読み取れる状態にしておきます。\n",
    "\n",
    "まとめると以下のようなコードになります！"
   ]
  },
  {
   "cell_type": "code",
   "execution_count": 7,
   "metadata": {},
   "outputs": [],
   "source": [
    "#htttps://weather.tsukumijima.net/api/forecast/city/ + citycode（東京の場合は130010）でリクエストする\n",
    "response = requests.get(\"https://weather.tsukumijima.net/api/forecast/city/130010\")\n",
    "\n",
    "#リクエストした結果をjson形式で取得\n",
    "weather_json = response.json() \n",
    "\n",
    "#必要であればJSONClackでJSONを整形すると良い"
   ]
  },
  {
   "attachments": {},
   "cell_type": "markdown",
   "metadata": {},
   "source": [
    "これで 変数weather_jsonに様々な東京の天気のデータが格納されています。  \n",
    "この講座ではその中から降水確率のデータを使用します。"
   ]
  },
  {
   "cell_type": "markdown",
   "metadata": {},
   "source": [
    "<img src=\"pic/img047.png\">"
   ]
  },
  {
   "attachments": {},
   "cell_type": "markdown",
   "metadata": {},
   "source": [
    "今日の天気は  \n",
    "weather_json['forecasts'][0]  \n",
    "に格納されています。\n",
    "\n",
    "それぞれの天気のデータは配列として指定で取得できます。\n",
    "- 今日　：weather_json['forecasts'][0] \n",
    "- 明日　：weather_json['forecasts'][1] \n",
    "- 明後日：weather_json['forecasts'][2] "
   ]
  },
  {
   "attachments": {},
   "cell_type": "markdown",
   "metadata": {},
   "source": [
    "今日の天気のデータを確認してみましょう"
   ]
  },
  {
   "cell_type": "code",
   "execution_count": 8,
   "metadata": {},
   "outputs": [
    {
     "data": {
      "text/plain": [
       "{'date': '2023-06-08',\n",
       " 'dateLabel': '今日',\n",
       " 'telop': '晴のち雨',\n",
       " 'detail': {'weather': '晴れ\\u3000後\\u3000くもり\\u3000夜\\u3000雨',\n",
       "  'wind': '南の風',\n",
       "  'wave': '０．５メートル'},\n",
       " 'temperature': {'min': {'celsius': None, 'fahrenheit': None},\n",
       "  'max': {'celsius': '28', 'fahrenheit': '82.4'}},\n",
       " 'chanceOfRain': {'T00_06': '--%',\n",
       "  'T06_12': '--%',\n",
       "  'T12_18': '20%',\n",
       "  'T18_24': '70%'},\n",
       " 'image': {'title': '晴のち雨',\n",
       "  'url': 'https://www.jma.go.jp/bosai/forecast/img/112.svg',\n",
       "  'width': 80,\n",
       "  'height': 60}}"
      ]
     },
     "execution_count": 8,
     "metadata": {},
     "output_type": "execute_result"
    }
   ],
   "source": [
    "# 今日の天気はweather_json['forecasts'][0]で表示できる\n",
    "weather_json['forecasts'][0]"
   ]
  },
  {
   "attachments": {},
   "cell_type": "markdown",
   "metadata": {},
   "source": [
    "この講義では、降水確率を使うため、  \n",
    "weather_json['forecasts'][今日明日明後日のどれか]['chanceOfRain'][ここに時間指定]  \n",
    "でそれぞれの区間の降水確率を取得します。\n",
    "\n",
    "例として、以下のコードになります。"
   ]
  },
  {
   "cell_type": "code",
   "execution_count": 9,
   "metadata": {},
   "outputs": [
    {
     "name": "stdout",
     "output_type": "stream",
     "text": [
      "--今日の降水確率--\n",
      "0-6時\n",
      "--%\n",
      "6-12時\n",
      "--%\n",
      "12-18時\n",
      "20%\n",
      "18-24時\n",
      "70%\n",
      "--明日の降水確率--\n",
      "0-6時\n",
      "90%\n",
      "6-12時\n",
      "60%\n",
      "12-18時\n",
      "10%\n",
      "18-24時\n",
      "10%\n",
      "--明後日の降水確率--\n",
      "0-6時\n",
      "50%\n",
      "6-12時\n",
      "50%\n",
      "12-18時\n",
      "50%\n",
      "18-24時\n",
      "50%\n"
     ]
    }
   ],
   "source": [
    "# 色々な情報が入ってくるため、必要な情報をprintして挙動を確認してみる\n",
    "# 今日の天気\n",
    "print(\"--今日の降水確率--\")\n",
    "print(\"0-6時\")\n",
    "print(weather_json['forecasts'][0]['chanceOfRain']['T00_06'])\n",
    "print(\"6-12時\")\n",
    "print(weather_json['forecasts'][0]['chanceOfRain']['T06_12'])\n",
    "print(\"12-18時\")\n",
    "print(weather_json['forecasts'][0]['chanceOfRain']['T12_18'])\n",
    "print(\"18-24時\")\n",
    "print(weather_json['forecasts'][0]['chanceOfRain']['T18_24'])\n",
    "\n",
    "# 明日の天気\n",
    "print(\"--明日の降水確率--\")\n",
    "print(\"0-6時\")\n",
    "print(weather_json['forecasts'][1]['chanceOfRain']['T00_06'])\n",
    "print(\"6-12時\")\n",
    "print(weather_json['forecasts'][1]['chanceOfRain']['T06_12'])\n",
    "print(\"12-18時\")\n",
    "print(weather_json['forecasts'][1]['chanceOfRain']['T12_18'])\n",
    "print(\"18-24時\")\n",
    "print(weather_json['forecasts'][1]['chanceOfRain']['T18_24'])\n",
    "\n",
    "# あさっての天気\n",
    "print(\"--明後日の降水確率--\")\n",
    "print(\"0-6時\")\n",
    "print(weather_json['forecasts'][2]['chanceOfRain']['T00_06'])\n",
    "print(\"6-12時\")\n",
    "print(weather_json['forecasts'][2]['chanceOfRain']['T06_12'])\n",
    "print(\"12-18時\")\n",
    "print(weather_json['forecasts'][2]['chanceOfRain']['T12_18'])\n",
    "print(\"18-24時\")\n",
    "print(weather_json['forecasts'][2]['chanceOfRain']['T18_24'])"
   ]
  },
  {
   "cell_type": "markdown",
   "metadata": {},
   "source": [
    "次は現在時刻を使って、現在の降水確率を取得します。"
   ]
  },
  {
   "cell_type": "markdown",
   "metadata": {},
   "source": [
    "<img src=\"pic/img048.png\">"
   ]
  },
  {
   "attachments": {},
   "cell_type": "markdown",
   "metadata": {},
   "source": [
    "現在時刻の取得は  \n",
    "datetime.now()を使います。\n",
    "\n",
    "今回は、現在時刻の時間が欲しいので、.hourで指定します。  \n",
    "これによって数字で得られるので、0-6時、6-12時、12-18時、18-24時の条件文に使えます。"
   ]
  },
  {
   "cell_type": "code",
   "execution_count": 10,
   "metadata": {},
   "outputs": [
    {
     "data": {
      "text/plain": [
       "13"
      ]
     },
     "execution_count": 10,
     "metadata": {},
     "output_type": "execute_result"
    }
   ],
   "source": [
    "datetime.now().hour # 現在時刻の時間を取得"
   ]
  },
  {
   "attachments": {},
   "cell_type": "markdown",
   "metadata": {},
   "source": [
    "この得られた数字を使って、現在の降水確率を取得します。"
   ]
  },
  {
   "cell_type": "code",
   "execution_count": 11,
   "metadata": {},
   "outputs": [
    {
     "name": "stdout",
     "output_type": "stream",
     "text": [
      "現在の降水確率 : 20%\n"
     ]
    }
   ],
   "source": [
    "# 天気の情報を0-6時、6-12時、12-18時、18-24時の4つに分けて降水確率を今日、明日、明後日の３日間の天気を返すため、場合分けする。\n",
    "now_hour = datetime.now().hour  # 現在時刻の時間を取得し、これを条件にする\n",
    "\n",
    "if 0 <= now_hour and now_hour < 6:\n",
    "    weather_now = weather_json['forecasts'][0]['chanceOfRain']['T00_06'] # 今日の0-6時の降水確率を取得し、weather_nowに代入\n",
    "elif 6 <= now_hour and now_hour < 12:\n",
    "    weather_now = weather_json['forecasts'][0]['chanceOfRain']['T06_12'] # 今日の6-12時の降水確率を取得し、weather_nowに代入\n",
    "elif 12 <= now_hour and now_hour < 18:\n",
    "    weather_now = weather_json['forecasts'][0]['chanceOfRain']['T12_18'] # 今日の12-18時の降水確率を取得し、weather_nowに代入\n",
    "else:\n",
    "    weather_now = weather_json['forecasts'][0]['chanceOfRain']['T18_24'] # 今日の18-24時の降水確率を取得し、weather_nowに代入\n",
    "\n",
    "# 現在時刻の降水確率をweather_now_textに代入\n",
    "weather_now_text = \"現在の降水確率 : \" + weather_now\n",
    "print(weather_now_text) # 現在時刻の降水確率を表示"
   ]
  },
  {
   "attachments": {},
   "cell_type": "markdown",
   "metadata": {},
   "source": [
    "2.3今日、明日、明後日の３日分の降水確率を構造化データとして表示"
   ]
  },
  {
   "cell_type": "markdown",
   "metadata": {},
   "source": [
    "<img src=\"pic/img049.png\">"
   ]
  },
  {
   "attachments": {},
   "cell_type": "markdown",
   "metadata": {},
   "source": [
    "pandasのデータフレームにそれぞれ降水確率のデータを入れます。  \n",
    "pd.DataFrame(ここにデータ)でデータフレーム化することができます。\n",
    "\n",
    "わかりやすいようにindexは今日、明日、明後日と付けると以下のようになります。\n"
   ]
  },
  {
   "cell_type": "code",
   "execution_count": 12,
   "metadata": {},
   "outputs": [],
   "source": [
    "# 今日、明日、明後日の降水確率をDadaFrameに代入\n",
    "# df1, df2, df3としてみて、一つ一つ表示してみる\n",
    "df1 = pd.DataFrame(weather_json['forecasts'][0]['chanceOfRain'],index=[\"今日\"]) # index名を今日という文字列に設定\n",
    "df2 = pd.DataFrame(weather_json['forecasts'][1]['chanceOfRain'],index=[\"明日\"]) # index名を明日という文字列に設定\n",
    "df3 = pd.DataFrame(weather_json['forecasts'][2]['chanceOfRain'],index=[\"明後日\"]) # index名を明後日という文字列に設定"
   ]
  },
  {
   "attachments": {},
   "cell_type": "markdown",
   "metadata": {},
   "source": [
    "それぞれのデータフレームを確認すると"
   ]
  },
  {
   "cell_type": "code",
   "execution_count": 13,
   "metadata": {},
   "outputs": [
    {
     "name": "stdout",
     "output_type": "stream",
     "text": [
      "--今日の降水確率--\n"
     ]
    },
    {
     "data": {
      "text/html": [
       "<div>\n",
       "<style scoped>\n",
       "    .dataframe tbody tr th:only-of-type {\n",
       "        vertical-align: middle;\n",
       "    }\n",
       "\n",
       "    .dataframe tbody tr th {\n",
       "        vertical-align: top;\n",
       "    }\n",
       "\n",
       "    .dataframe thead th {\n",
       "        text-align: right;\n",
       "    }\n",
       "</style>\n",
       "<table border=\"1\" class=\"dataframe\">\n",
       "  <thead>\n",
       "    <tr style=\"text-align: right;\">\n",
       "      <th></th>\n",
       "      <th>T00_06</th>\n",
       "      <th>T06_12</th>\n",
       "      <th>T12_18</th>\n",
       "      <th>T18_24</th>\n",
       "    </tr>\n",
       "  </thead>\n",
       "  <tbody>\n",
       "    <tr>\n",
       "      <th>今日</th>\n",
       "      <td>--%</td>\n",
       "      <td>--%</td>\n",
       "      <td>20%</td>\n",
       "      <td>70%</td>\n",
       "    </tr>\n",
       "  </tbody>\n",
       "</table>\n",
       "</div>"
      ],
      "text/plain": [
       "   T00_06 T06_12 T12_18 T18_24\n",
       "今日    --%    --%    20%    70%"
      ]
     },
     "metadata": {},
     "output_type": "display_data"
    },
    {
     "name": "stdout",
     "output_type": "stream",
     "text": [
      "--明日の降水確率--\n"
     ]
    },
    {
     "data": {
      "text/html": [
       "<div>\n",
       "<style scoped>\n",
       "    .dataframe tbody tr th:only-of-type {\n",
       "        vertical-align: middle;\n",
       "    }\n",
       "\n",
       "    .dataframe tbody tr th {\n",
       "        vertical-align: top;\n",
       "    }\n",
       "\n",
       "    .dataframe thead th {\n",
       "        text-align: right;\n",
       "    }\n",
       "</style>\n",
       "<table border=\"1\" class=\"dataframe\">\n",
       "  <thead>\n",
       "    <tr style=\"text-align: right;\">\n",
       "      <th></th>\n",
       "      <th>T00_06</th>\n",
       "      <th>T06_12</th>\n",
       "      <th>T12_18</th>\n",
       "      <th>T18_24</th>\n",
       "    </tr>\n",
       "  </thead>\n",
       "  <tbody>\n",
       "    <tr>\n",
       "      <th>明日</th>\n",
       "      <td>90%</td>\n",
       "      <td>60%</td>\n",
       "      <td>10%</td>\n",
       "      <td>10%</td>\n",
       "    </tr>\n",
       "  </tbody>\n",
       "</table>\n",
       "</div>"
      ],
      "text/plain": [
       "   T00_06 T06_12 T12_18 T18_24\n",
       "明日    90%    60%    10%    10%"
      ]
     },
     "metadata": {},
     "output_type": "display_data"
    },
    {
     "name": "stdout",
     "output_type": "stream",
     "text": [
      "--明後日の降水確率--\n"
     ]
    },
    {
     "data": {
      "text/html": [
       "<div>\n",
       "<style scoped>\n",
       "    .dataframe tbody tr th:only-of-type {\n",
       "        vertical-align: middle;\n",
       "    }\n",
       "\n",
       "    .dataframe tbody tr th {\n",
       "        vertical-align: top;\n",
       "    }\n",
       "\n",
       "    .dataframe thead th {\n",
       "        text-align: right;\n",
       "    }\n",
       "</style>\n",
       "<table border=\"1\" class=\"dataframe\">\n",
       "  <thead>\n",
       "    <tr style=\"text-align: right;\">\n",
       "      <th></th>\n",
       "      <th>T00_06</th>\n",
       "      <th>T06_12</th>\n",
       "      <th>T12_18</th>\n",
       "      <th>T18_24</th>\n",
       "    </tr>\n",
       "  </thead>\n",
       "  <tbody>\n",
       "    <tr>\n",
       "      <th>明後日</th>\n",
       "      <td>50%</td>\n",
       "      <td>50%</td>\n",
       "      <td>50%</td>\n",
       "      <td>50%</td>\n",
       "    </tr>\n",
       "  </tbody>\n",
       "</table>\n",
       "</div>"
      ],
      "text/plain": [
       "    T00_06 T06_12 T12_18 T18_24\n",
       "明後日    50%    50%    50%    50%"
      ]
     },
     "metadata": {},
     "output_type": "display_data"
    }
   ],
   "source": [
    "print(\"--今日の降水確率--\")\n",
    "display(df1)\n",
    "print(\"--明日の降水確率--\")\n",
    "display(df2)\n",
    "print(\"--明後日の降水確率--\")\n",
    "display(df3)"
   ]
  },
  {
   "attachments": {},
   "cell_type": "markdown",
   "metadata": {},
   "source": [
    "それぞれのデータフレームを１つにしたいので、  \n",
    "pandasの機能である pd.concatで結合します。\n",
    "\n",
    "使い方は pd.concat([ここにデータ,ここにデータ])でできます。  \n",
    "結合すると以下のようになります。"
   ]
  },
  {
   "cell_type": "code",
   "execution_count": 14,
   "metadata": {},
   "outputs": [
    {
     "data": {
      "text/html": [
       "<div>\n",
       "<style scoped>\n",
       "    .dataframe tbody tr th:only-of-type {\n",
       "        vertical-align: middle;\n",
       "    }\n",
       "\n",
       "    .dataframe tbody tr th {\n",
       "        vertical-align: top;\n",
       "    }\n",
       "\n",
       "    .dataframe thead th {\n",
       "        text-align: right;\n",
       "    }\n",
       "</style>\n",
       "<table border=\"1\" class=\"dataframe\">\n",
       "  <thead>\n",
       "    <tr style=\"text-align: right;\">\n",
       "      <th></th>\n",
       "      <th>T00_06</th>\n",
       "      <th>T06_12</th>\n",
       "      <th>T12_18</th>\n",
       "      <th>T18_24</th>\n",
       "    </tr>\n",
       "  </thead>\n",
       "  <tbody>\n",
       "    <tr>\n",
       "      <th>今日</th>\n",
       "      <td>--%</td>\n",
       "      <td>--%</td>\n",
       "      <td>20%</td>\n",
       "      <td>70%</td>\n",
       "    </tr>\n",
       "    <tr>\n",
       "      <th>明日</th>\n",
       "      <td>90%</td>\n",
       "      <td>60%</td>\n",
       "      <td>10%</td>\n",
       "      <td>10%</td>\n",
       "    </tr>\n",
       "    <tr>\n",
       "      <th>明後日</th>\n",
       "      <td>50%</td>\n",
       "      <td>50%</td>\n",
       "      <td>50%</td>\n",
       "      <td>50%</td>\n",
       "    </tr>\n",
       "  </tbody>\n",
       "</table>\n",
       "</div>"
      ],
      "text/plain": [
       "    T00_06 T06_12 T12_18 T18_24\n",
       "今日     --%    --%    20%    70%\n",
       "明日     90%    60%    10%    10%\n",
       "明後日    50%    50%    50%    50%"
      ]
     },
     "execution_count": 14,
     "metadata": {},
     "output_type": "execute_result"
    }
   ],
   "source": [
    "df = pd.concat([df1,df2,df3]) # 今日、明日、明後日の降水確率を結合して一覧にしてdfに代入\n",
    "df"
   ]
  },
  {
   "attachments": {},
   "cell_type": "markdown",
   "metadata": {},
   "source": [
    "以上がアプリの動作部分です。"
   ]
  },
  {
   "attachments": {},
   "cell_type": "markdown",
   "metadata": {},
   "source": [
    ">streamlitに実装する場合の使う機能"
   ]
  },
  {
   "attachments": {},
   "cell_type": "markdown",
   "metadata": {},
   "source": [
    "今はユーザーがブラウザ上で選択したりなど、想定していませんが、  \n",
    "選択肢の表示などのコンポーネントを紹介します。\n",
    "\n",
    "※streamlitはjupyterでは動作せず、実行ファイルでのみ動作します"
   ]
  },
  {
   "attachments": {},
   "cell_type": "markdown",
   "metadata": {},
   "source": [
    "タイトルは  \n",
    "st.title(\"ここにタイトル\")"
   ]
  },
  {
   "attachments": {},
   "cell_type": "markdown",
   "metadata": {},
   "source": [
    "ただの表示は  \n",
    "st.write(\"ここに表示したい文字\")\n",
    "\n",
    "ただし、再読み込みしない限り、この表示された文字は変更されません。"
   ]
  },
  {
   "attachments": {},
   "cell_type": "markdown",
   "metadata": {},
   "source": [
    "変数を監視して表示させる方法は以下のようになります。\n",
    "1. 表示させる場所を確保する\n",
    "1. その空間に.writeで書き込みをする\n",
    "\n",
    "例として、変数testを使います。"
   ]
  },
  {
   "cell_type": "code",
   "execution_count": null,
   "metadata": {},
   "outputs": [],
   "source": [
    "test = st.empty()\n",
    "test.write(\"ここに書き込みたい事\")"
   ]
  },
  {
   "attachments": {},
   "cell_type": "markdown",
   "metadata": {},
   "source": [
    "pandasのデータフレームを表示したい場合は、  \n",
    "st.dataframe(ここにデータ)  \n",
    "で表示できます。"
   ]
  },
  {
   "attachments": {},
   "cell_type": "markdown",
   "metadata": {},
   "source": [
    "citycodeに使う選択肢は  st.selectbox(\"ここに表示したい項目名\",ここに配列のデータ)\n",
    "\n",
    "でできます。"
   ]
  },
  {
   "attachments": {},
   "cell_type": "markdown",
   "metadata": {},
   "source": [
    "以上の機能を使ってwebアプリにしていきます。"
   ]
  },
  {
   "attachments": {},
   "cell_type": "markdown",
   "metadata": {},
   "source": [
    ">（演習）streamlitに実装しましょう！"
   ]
  },
  {
   "attachments": {},
   "cell_type": "markdown",
   "metadata": {},
   "source": [
    "手元で動いたアプリをstreamlitで動くようにします。  \n",
    "この演習では必ず実行ファイルにコーディングしてください。"
   ]
  },
  {
   "attachments": {},
   "cell_type": "markdown",
   "metadata": {},
   "source": [
    "※streamlit run ファイル名で実行する時は必ず実行ファイルで実行してください。"
   ]
  },
  {
   "attachments": {},
   "cell_type": "markdown",
   "metadata": {},
   "source": [
    "実装の流れ\n",
    "1. URLを選択できるように変更\n",
    "    1. citycodeを変数化\n",
    "    1. citycodeにセレクトボックスの値が入るようにする\n",
    "1. 手元のコードに反映\n",
    "1. ターミナルに出力していた文字などをブラウザに出力"
   ]
  },
  {
   "attachments": {},
   "cell_type": "markdown",
   "metadata": {},
   "source": [
    "以下の手元で動いたコードをstreamlitで動くようにします。"
   ]
  },
  {
   "cell_type": "code",
   "execution_count": null,
   "metadata": {},
   "outputs": [],
   "source": [
    "import streamlit as st # フロントエンドを扱うstreamlitの機能をインポート\n",
    "import requests # リクエストするための機能をインポート\n",
    "from datetime import datetime # 現在時刻などの時間を扱う機能をインポート\n",
    "import pandas as pd # データフレームを扱う機能をインポート\n",
    "\n",
    "print(\"天気アプリ\")\n",
    "\n",
    "url = \"https://weather.tsukumijima.net/api/forecast/city/\" + \"130010\" # APIにリクエストするURLを作成　東京のcityコード\n",
    "\n",
    "response = requests.get(url) # 作成したリクエスト用URLでアクセスして、responseに代入\n",
    "\n",
    "weather_json = response.json() # responseにjson形式の天気のデータが返ってくるので、response.json()をweather_jsonに代入\n",
    "now_hour = datetime.now().hour # 現在の天気情報取得のために、現在時刻の時間をnow_hourに代入\n",
    "\n",
    "# 今日の天気はweather_json['forecasts'][0]['chanceOfRain']\n",
    "# 明日の天気はweather_json['forecasts'][1]['chanceOfRain']\n",
    "# 明後日の天気はweather_json['forecasts'][2]['chanceOfRain']\n",
    "# にそれぞれ格納されている\n",
    "\n",
    "# 天気の情報を0-6時、6-12時、12-18時、18-24時の4つに分けて降水確率を今日、明日、明後日の３日間の天気を返すため、場合分けする。\n",
    "if 0 <= now_hour and now_hour < 6:\n",
    "    weather_now = weather_json['forecasts'][0]['chanceOfRain']['T00_06'] # 今日の0-6時の降水確率を取得し、weather_nowに代入\n",
    "elif 6 <= now_hour and now_hour < 12:\n",
    "    weather_now = weather_json['forecasts'][0]['chanceOfRain']['T06_12'] # 今日の6-12時の降水確率を取得し、weather_nowに代入\n",
    "elif 12 <= now_hour and now_hour < 18:\n",
    "    weather_now = weather_json['forecasts'][0]['chanceOfRain']['T12_18'] # 今日の12-18時の降水確率を取得し、weather_nowに代入\n",
    "else:\n",
    "    weather_now = weather_json['forecasts'][0]['chanceOfRain']['T18_24'] # 今日の18-24時の降水確率を取得し、weather_nowに代入\n",
    "\n",
    "# 現在時刻の降水確率をweather_now_textに代入\n",
    "weather_now_text = \"現在の降水確率 : \" + weather_now\n",
    "print(weather_now_text) # 現在時刻の降水確率を表示\n",
    "\n",
    "# 今日、明日、明後日の降水確率をDadaFrameに代入\n",
    "df1 = pd.DataFrame(weather_json['forecasts'][0]['chanceOfRain'],index=[\"今日\"]) # index名を今日という文字列に設定\n",
    "df2 = pd.DataFrame(weather_json['forecasts'][1]['chanceOfRain'],index=[\"明日\"]) # index名を明日という文字列に設定\n",
    "df3 = pd.DataFrame(weather_json['forecasts'][2]['chanceOfRain'],index=[\"明後日\"]) # index名を明後日という文字列に設定\n",
    "\n",
    "df = pd.concat([df1,df2,df3]) # 今日、明日、明後日の降水確率を結合して一覧にしてdfに代入\n",
    "print(df) # 一覧にした降水確率を表示"
   ]
  },
  {
   "attachments": {},
   "cell_type": "markdown",
   "metadata": {},
   "source": [
    "1.URLを選択できるように変更"
   ]
  },
  {
   "cell_type": "markdown",
   "metadata": {},
   "source": [
    "<img src=\"pic/img051.png\">"
   ]
  },
  {
   "attachments": {},
   "cell_type": "markdown",
   "metadata": {},
   "source": [
    "1.1citycodeを変数化"
   ]
  },
  {
   "attachments": {},
   "cell_type": "markdown",
   "metadata": {},
   "source": [
    "変更の流れ\n",
    "1. 変数を使う\n",
    "1. 変数の値にセレクトボックスの値が入るようにする"
   ]
  },
  {
   "attachments": {},
   "cell_type": "markdown",
   "metadata": {},
   "source": [
    "以下のコードの部分をセレクトボックスで選択できるように変更します。"
   ]
  },
  {
   "cell_type": "code",
   "execution_count": 20,
   "metadata": {},
   "outputs": [
    {
     "name": "stdout",
     "output_type": "stream",
     "text": [
      "https://weather.tsukumijima.net/api/forecast/city/130010\n"
     ]
    }
   ],
   "source": [
    "url = \"https://weather.tsukumijima.net/api/forecast/city/\" + \"130010\" \n",
    "print(url)"
   ]
  },
  {
   "attachments": {},
   "cell_type": "markdown",
   "metadata": {},
   "source": [
    "URLを変数city_codeを使ってで変動できるようにします。"
   ]
  },
  {
   "cell_type": "code",
   "execution_count": 22,
   "metadata": {},
   "outputs": [
    {
     "name": "stdout",
     "output_type": "stream",
     "text": [
      "https://weather.tsukumijima.net/api/forecast/city/130010\n"
     ]
    }
   ],
   "source": [
    "citycode = \"130010\" \n",
    "\n",
    "url = \"https://weather.tsukumijima.net/api/forecast/city/\" + citycode\n",
    "print(url)"
   ]
  },
  {
   "attachments": {},
   "cell_type": "markdown",
   "metadata": {},
   "source": [
    "citycodeに適応される文字列を辞書型配列を使って、人間に理解できる選択肢に変更します。  \n",
    "この配列の変数名はcity_code_listとしておきます。"
   ]
  },
  {
   "cell_type": "code",
   "execution_count": 23,
   "metadata": {},
   "outputs": [
    {
     "name": "stdout",
     "output_type": "stream",
     "text": [
      "https://weather.tsukumijima.net/api/forecast/city/130010\n"
     ]
    }
   ],
   "source": [
    "city_code_list = {\n",
    "    \"東京都\":\"130010\",\n",
    "}\n",
    "\n",
    "citycode = city_code_list[\"東京都\"] \n",
    "\n",
    "url = \"https://weather.tsukumijima.net/api/forecast/city/\" + citycode\n",
    "print(url)"
   ]
  },
  {
   "attachments": {},
   "cell_type": "markdown",
   "metadata": {},
   "source": [
    "1.2citycodeにセレクトボックスの値が入るようにする"
   ]
  },
  {
   "attachments": {},
   "cell_type": "markdown",
   "metadata": {},
   "source": [
    "streamlitのセレクトボックスを使って、東京の選択肢を作ります。  \n",
    "使い方はst.selectbox(\"ここに表示したい項目名\",ここに配列のデータ)なので、以下のコードになります。\n",
    "\n",
    "セレクトボックスの値はcity_code_indexに代入します。  \n",
    "辞書型の配列はcity_code_list.keys()で取得できます。\n",
    "\n",
    "※ここからjupyterでは実行できません。"
   ]
  },
  {
   "cell_type": "code",
   "execution_count": 25,
   "metadata": {},
   "outputs": [
    {
     "data": {
      "text/plain": [
       "dict_keys(['東京都'])"
      ]
     },
     "execution_count": 25,
     "metadata": {},
     "output_type": "execute_result"
    }
   ],
   "source": [
    "city_code_list.keys()"
   ]
  },
  {
   "cell_type": "code",
   "execution_count": null,
   "metadata": {},
   "outputs": [],
   "source": [
    "city_code_list = {\n",
    "    \"東京都\":\"130010\",\n",
    "}\n",
    "\n",
    "city_code_index = st.selectbox(\"地域を選んでください。\",city_code_list.keys())\n",
    "\n",
    "citycode = city_code_list[city_code_index] \n",
    "\n",
    "url = \"https://weather.tsukumijima.net/api/forecast/city/\" + citycode\n",
    "print(url)"
   ]
  },
  {
   "attachments": {},
   "cell_type": "markdown",
   "metadata": {},
   "source": [
    "2.手元のコードに反映"
   ]
  },
  {
   "attachments": {},
   "cell_type": "markdown",
   "metadata": {},
   "source": [
    "streamlitに実装したアプリをまとめると、以下のようになります。"
   ]
  },
  {
   "cell_type": "code",
   "execution_count": null,
   "metadata": {},
   "outputs": [],
   "source": [
    "import streamlit as st # フロントエンドを扱うstreamlitの機能をインポート\n",
    "import requests # リクエストするための機能をインポート\n",
    "from datetime import datetime # 現在時刻などの時間を扱う機能をインポート\n",
    "import pandas as pd # データフレームを扱う機能をインポート\n",
    "\n",
    "\n",
    "\n",
    "\n",
    "print(\"天気アプリ\")\n",
    "\n",
    "\n",
    "# 選択肢を作成\n",
    "city_code_list = {\n",
    "    \"東京都\":\"130010\",\n",
    "}\n",
    "\n",
    "city_code_index = st.selectbox(\"地域を選んでください。\",city_code_list.keys()) # 選択肢のキーをst.selectboxで選択し、city_code_indexに代入\n",
    "city_code = city_code_list[city_code_index] # 選択したキーからAPIのリクエストに使うcityコードに変換し、city_codeに代入\n",
    "\n",
    "url = \"https://weather.tsukumijima.net/api/forecast/city/\" + city_code # APIにリクエストするURLを作成\n",
    "\n",
    "\n",
    "response = requests.get(url) # 作成したリクエスト用URLでアクセスして、responseに代入\n",
    "\n",
    "weather_json = response.json() # responseにjson形式の天気のデータが返ってくるので、response.json()をweather_jsonに代入\n",
    "now_hour = datetime.now().hour # 現在の天気情報取得のために、現在時刻の時間をnow_hourに代入\n",
    "\n",
    "# 今日の天気はweather_json['forecasts'][0]['chanceOfRain']\n",
    "# 明日の天気はweather_json['forecasts'][1]['chanceOfRain']\n",
    "# 明後日の天気はweather_json['forecasts'][2]['chanceOfRain']\n",
    "# にそれぞれ格納されている\n",
    "\n",
    "# 天気の情報を0-6時、6-12時、12-18時、18-24時の4つに分けて降水確率を今日、明日、明後日の３日間の天気を返すため、場合分けする。\n",
    "if 0 <= now_hour and now_hour < 6:\n",
    "    weather_now = weather_json['forecasts'][0]['chanceOfRain']['T00_06'] # 今日の0-6時の降水確率を取得し、weather_nowに代入\n",
    "elif 6 <= now_hour and now_hour < 12:\n",
    "    weather_now = weather_json['forecasts'][0]['chanceOfRain']['T06_12'] # 今日の6-12時の降水確率を取得し、weather_nowに代入\n",
    "elif 12 <= now_hour and now_hour < 18:\n",
    "    weather_now = weather_json['forecasts'][0]['chanceOfRain']['T12_18'] # 今日の12-18時の降水確率を取得し、weather_nowに代入\n",
    "else:\n",
    "    weather_now = weather_json['forecasts'][0]['chanceOfRain']['T18_24'] # 今日の18-24時の降水確率を取得し、weather_nowに代入\n",
    "\n",
    "# 現在時刻の降水確率をweather_now_textに代入\n",
    "weather_now_text = \"現在の降水確率 : \" + weather_now\n",
    "print(weather_now_text) # 現在時刻の降水確率を表示\n",
    "\n",
    "# 今日、明日、明後日の降水確率をDadaFrameに代入\n",
    "df1 = pd.DataFrame(weather_json['forecasts'][0]['chanceOfRain'],index=[\"今日\"]) # index名を今日という文字列に設定\n",
    "df2 = pd.DataFrame(weather_json['forecasts'][1]['chanceOfRain'],index=[\"明日\"]) # index名を明日という文字列に設定\n",
    "df3 = pd.DataFrame(weather_json['forecasts'][2]['chanceOfRain'],index=[\"明後日\"]) # index名を明後日という文字列に設定\n",
    "\n",
    "df = pd.concat([df1,df2,df3]) # 今日、明日、明後日の降水確率を結合して一覧にしてdfに代入\n",
    "print(df) # 一覧にした降水確率を表示"
   ]
  },
  {
   "attachments": {},
   "cell_type": "markdown",
   "metadata": {},
   "source": [
    "3.ターミナルに出力していた文字などをブラウザに出力"
   ]
  },
  {
   "attachments": {},
   "cell_type": "markdown",
   "metadata": {},
   "source": [
    "最後にprintでターミナルで出力していた  \n",
    "タイトルや文字やデータフレームを以下の４つのコードを使ってブラウザに出力します。\n",
    "\n",
    "- st.title\n",
    "- st.write\n",
    "- st.empty()\n",
    "- st.dataframe"
   ]
  },
  {
   "cell_type": "markdown",
   "metadata": {},
   "source": [
    "<img src=\"pic/img050.png\">"
   ]
  },
  {
   "cell_type": "code",
   "execution_count": null,
   "metadata": {},
   "outputs": [],
   "source": [
    "import streamlit as st # フロントエンドを扱うstreamlitの機能をインポート\n",
    "import requests # リクエストするための機能をインポート\n",
    "from datetime import datetime # 現在時刻などの時間を扱う機能をインポート\n",
    "import pandas as pd # データフレームを扱う機能をインポート\n",
    "\n",
    "# 選択肢を作成\n",
    "city_code_list = {\n",
    "    \"東京都\":\"130010\",\n",
    "    \"大阪\" : \"270000\",\n",
    "}\n",
    "# 選択肢のデフォルトを設定\n",
    "city_code_index = \"東京都\"\n",
    "\n",
    "\n",
    "st.title(\"天気アプリ\") # タイトル\n",
    "st.write(\"調べたい地域を選んでください。\") # サブタイトル\n",
    "city_code_index = st.selectbox(\"地域を選んでください。\",city_code_list.keys()) # 選択肢のキーをst.selectboxで選択し、city_code_indexに代入\n",
    "city_code = city_code_list[city_code_index] # 選択したキーからAPIのリクエストに使うcityコードに変換し、city_codeに代入\n",
    "current_city_code = st.empty() # 選択中の地域を補油時するための箱をcurrent_city_codeとして用意\n",
    "current_city_code.write(\"選択中の地域:\" + city_code_index) # 用意した箱に選択肢した地域を代入し、表示させる\n",
    "\n",
    "url = \"https://weather.tsukumijima.net/api/forecast/city/\" + city_code # APIにリクエストするURLを作成\n",
    "\n",
    "\n",
    "response = requests.get(url) # 作成したリクエスト用URLでアクセスして、responseに代入\n",
    "\n",
    "weather_json = response.json() # responseにjson形式の天気のデータが返ってくるので、response.json()をweather_jsonに代入\n",
    "now_hour = datetime.now().hour # 現在の天気情報取得のために、現在時刻の時間をnow_hourに代入\n",
    "\n",
    "# 今日の天気はweather_json['forecasts'][0]['chanceOfRain']\n",
    "# 明日の天気はweather_json['forecasts'][1]['chanceOfRain']\n",
    "# 明後日の天気はweather_json['forecasts'][2]['chanceOfRain']\n",
    "# にそれぞれ格納されている\n",
    "\n",
    "# 天気の情報を0-6時、6-12時、12-18時、18-24時の4つに分けて降水確率を今日、明日、明後日の３日間の天気を返すため、場合分けする。\n",
    "if 0 <= now_hour and now_hour < 6:\n",
    "    weather_now = weather_json['forecasts'][0]['chanceOfRain']['T00_06'] # 今日の0-6時の降水確率を取得し、weather_nowに代入\n",
    "elif 6 <= now_hour and now_hour < 12:\n",
    "    weather_now = weather_json['forecasts'][0]['chanceOfRain']['T06_12'] # 今日の6-12時の降水確率を取得し、weather_nowに代入\n",
    "elif 12 <= now_hour and now_hour < 18:\n",
    "    weather_now = weather_json['forecasts'][0]['chanceOfRain']['T12_18'] # 今日の12-18時の降水確率を取得し、weather_nowに代入\n",
    "else:\n",
    "    weather_now = weather_json['forecasts'][0]['chanceOfRain']['T18_24'] # 今日の18-24時の降水確率を取得し、weather_nowに代入\n",
    "\n",
    "# 現在時刻の降水確率をweather_now_textに代入\n",
    "weather_now_text = \"現在の降水確率 : \" + weather_now\n",
    "st.write(weather_now_text) # 現在時刻の降水確率を表示\n",
    "\n",
    "# 今日、明日、明後日の降水確率をDadaFrameに代入\n",
    "df1 = pd.DataFrame(weather_json['forecasts'][0]['chanceOfRain'],index=[\"今日\"]) # index名を今日という文字列に設定\n",
    "df2 = pd.DataFrame(weather_json['forecasts'][1]['chanceOfRain'],index=[\"明日\"]) # index名を明日という文字列に設定\n",
    "df3 = pd.DataFrame(weather_json['forecasts'][2]['chanceOfRain'],index=[\"明後日\"]) # index名を明後日という文字列に設定\n",
    "\n",
    "df = pd.concat([df1,df2,df3]) # 今日、明日、明後日の降水確率を結合して一覧にしてdfに代入\n",
    "st.dataframe(df) # 一覧にした降水確率を表示"
   ]
  }
 ],
 "metadata": {
  "kernelspec": {
   "display_name": "tech0",
   "language": "python",
   "name": "python3"
  },
  "language_info": {
   "codemirror_mode": {
    "name": "ipython",
    "version": 3
   },
   "file_extension": ".py",
   "mimetype": "text/x-python",
   "name": "python",
   "nbconvert_exporter": "python",
   "pygments_lexer": "ipython3",
   "version": "3.8.16"
  },
  "orig_nbformat": 4,
  "vscode": {
   "interpreter": {
    "hash": "14498c2693dbacc748b33ada8a31e4cf5c4288efbd86c8d200c58bb6fc8893c8"
   }
  }
 },
 "nbformat": 4,
 "nbformat_minor": 2
}
