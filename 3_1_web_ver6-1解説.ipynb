{
 "cells": [
  {
   "attachments": {},
   "cell_type": "markdown",
   "metadata": {},
   "source": [
    "# 3webアプリ作成"
   ]
  },
  {
   "attachments": {},
   "cell_type": "markdown",
   "metadata": {},
   "source": [
    "目次：https://docs.google.com/document/d/1eDw9PK5Ft0vImu81e7oERB_q-dZvxbFe8bGetZBgEEg/edit"
   ]
  },
  {
   "attachments": {},
   "cell_type": "markdown",
   "metadata": {},
   "source": [
    "## 3.1 この講座の前提"
   ]
  },
  {
   "attachments": {},
   "cell_type": "markdown",
   "metadata": {},
   "source": [
    "### 3.1.1 Webアプリケーションとは？(1Webアプリとはのおさらい)"
   ]
  },
  {
   "attachments": {},
   "cell_type": "markdown",
   "metadata": {},
   "source": [
    "PCやスマホのWebブラウザなど使用し、インターネットを通じてwebサーバーにアクセスすることによって使えるアプリケーションのことです。\n",
    "    \n",
    "「アプリケーション」とは、パソコンやスマートフォン上で動作するソフトウェアのことを指します。  \n",
    "アプリケーションは大きくわけて、「Webアプリ」「ネイティブアプリ」「ハイブリッドアプリ」などがあります。"
   ]
  },
  {
   "attachments": {},
   "cell_type": "markdown",
   "metadata": {},
   "source": [
    "#### Webアプリ"
   ]
  },
  {
   "attachments": {},
   "cell_type": "markdown",
   "metadata": {},
   "source": [
    "例えば、ネットショッピングサイトやSNS、動画配信サイトなどがWebアプリの一例です。\n",
    "\n",
    "ネットショッピングサイトを具体例にします。\n",
    "ブラウザやアプリで商品を表示し、バックエンドのWebサーバーに商品の検索や注文などの処理をさせることで、ユーザーにサービスを提供しています。\n",
    "\n",
    "これはSNSでも同じで、ブラウザやアプリで投稿やコメントを表示し、バックエンドのWebサーバーに投稿や投稿の削除などのデータベースの管理をさせることによって、ユーザーにサービスを提供しています。\n",
    "\n",
    "このように、Webページ、Webサーバー、データベースなどの技術を組み合わせて作り、ユーザーがインターネットを通じて使える便利なサービスをwebアプリといいます。"
   ]
  },
  {
   "attachments": {},
   "cell_type": "markdown",
   "metadata": {},
   "source": [
    "#### ネイティブアプリ"
   ]
  },
  {
   "attachments": {},
   "cell_type": "markdown",
   "metadata": {},
   "source": [
    "ネイティブアプリは、特定のOSを備えた機器で動作するアプリケーションのことで、「App Store」「Google Play」などのストアからインストールして利用できます。"
   ]
  },
  {
   "attachments": {},
   "cell_type": "markdown",
   "metadata": {},
   "source": [
    "#### ハイブリッドアプリ"
   ]
  },
  {
   "attachments": {},
   "cell_type": "markdown",
   "metadata": {},
   "source": [
    "ハイブリッドアプリは、Webアプリの技術を利用しながら、ネイティブアプリのカメラやGPS機能を備えたいいとこどりとも言えるアプリケーションです。"
   ]
  },
  {
   "attachments": {},
   "cell_type": "markdown",
   "metadata": {},
   "source": [
    "おさらいで、全体像を思い出したところで、フレームワークの選定に入ります。"
   ]
  },
  {
   "attachments": {},
   "cell_type": "markdown",
   "metadata": {},
   "source": [
    "### 3.1.2 PythonでWebアプリケーションを作るときのフレームワークの選定基準"
   ]
  },
  {
   "attachments": {},
   "cell_type": "markdown",
   "metadata": {},
   "source": [
    "#### フレームワーク視点"
   ]
  },
  {
   "attachments": {},
   "cell_type": "markdown",
   "metadata": {},
   "source": [
    ">MVP(0→1)→Streamlit,Flask"
   ]
  },
  {
   "attachments": {},
   "cell_type": "markdown",
   "metadata": {},
   "source": [
    "最小限の構成で必要最小限の機能を最小の作業量で実装していくフレームワークです。やりたい事の一部をお試しで動作確認することが一番の目的です。ですので、やりたいことを自分たちで足していく必要があります。\n",
    "\n",
    "- メリット：\n",
    "    - 機能をすぐに試すのに向いています。\n",
    "- デメリット：\n",
    "    - MVP以上のものを作ろうとしたときに、機能を自分で追加したり、そもそも拡張性が備わっていなかったりします。"
   ]
  },
  {
   "attachments": {},
   "cell_type": "markdown",
   "metadata": {},
   "source": [
    ">リリース直前の製品 β版(1→10)：Flaskなど"
   ]
  },
  {
   "attachments": {},
   "cell_type": "markdown",
   "metadata": {},
   "source": [
    "MVPで実装できなかった機能を揃えていくフェーズで利用するフレームワークです。  \n",
    "やりたいことをある程度叶えられ、アジャイル開発で進められるものが好まれる。"
   ]
  },
  {
   "attachments": {},
   "cell_type": "markdown",
   "metadata": {},
   "source": [
    "- メリット：\n",
    "    - MVPより解像度の高いモックを試すのに向いています。\n",
    "- デメリット\n",
    "    - MVPよりも多少時間がかかる場合があります。"
   ]
  },
  {
   "attachments": {},
   "cell_type": "markdown",
   "metadata": {},
   "source": [
    ">本番環境(10→100)：Flask・Django"
   ]
  },
  {
   "attachments": {},
   "cell_type": "markdown",
   "metadata": {},
   "source": [
    "実際に本番のユーザーが使用する前提で、必要な動作やセキュリティ問題を解決してくれるフレームワーク。本番リリースで利用できるだけの機能を備えている必要があり、世の中でよく利用され、ナレッジが溜まっているフレームワークを使うことが望ましい。"
   ]
  },
  {
   "attachments": {},
   "cell_type": "markdown",
   "metadata": {},
   "source": [
    "- メリット：\n",
    "    - サービスとして展開できるレベルのものを作成可能です。\n",
    "- デメリット\n",
    "    - 時間がかかる。しっかりとしたアーキテクチャの構成が必要です。"
   ]
  },
  {
   "attachments": {},
   "cell_type": "markdown",
   "metadata": {},
   "source": [
    ">スケール環境(100+)：Flask・Django"
   ]
  },
  {
   "attachments": {},
   "cell_type": "markdown",
   "metadata": {},
   "source": [
    "大量の一般ユーザーなどが使用する前提で、集中アクセスやセキュリティ問題などを解決する機能を備えたフレームワークです。"
   ]
  },
  {
   "attachments": {},
   "cell_type": "markdown",
   "metadata": {},
   "source": [
    "- メリット：\n",
    "    - 大規模にサービスを展開できるレベルのものを作成可能です。\n",
    "- デメリット\n",
    "    - 本番環境の時よりもインフラの知識が必要だったり、大規模のチームで作業する必要があります。"
   ]
  },
  {
   "attachments": {},
   "cell_type": "markdown",
   "metadata": {},
   "source": [
    "<img src=\"pic/img032.png\">"
   ]
  },
  {
   "attachments": {},
   "cell_type": "markdown",
   "metadata": {},
   "source": [
    "参考：https://moffle8.hatenablog.com/entry/programming-framework"
   ]
  },
  {
   "attachments": {},
   "cell_type": "markdown",
   "metadata": {},
   "source": [
    "#### かかる工数・時間・勉強方法など"
   ]
  },
  {
   "attachments": {},
   "cell_type": "markdown",
   "metadata": {},
   "source": [
    "<img src=\"pic/img033.png\">"
   ]
  },
  {
   "attachments": {},
   "cell_type": "markdown",
   "metadata": {},
   "source": [
    "参考：https://timecrowd.net/blog/man-hour_management-excel/"
   ]
  },
  {
   "attachments": {},
   "cell_type": "markdown",
   "metadata": {},
   "source": [
    ">かかる工数（実装にかかる工数）"
   ]
  },
  {
   "attachments": {},
   "cell_type": "markdown",
   "metadata": {},
   "source": [
    "- Streamlit: \n",
    "    - 特定のウィジェットやグラフィカル要素に限定されているため、自由度はやや劣りますが、これによって短時間でアプリケーションを作成できます。SPAに対応したMVPを実装するのに、2週間以内で構築可能です。\n",
    "- Flask: \n",
    "    - 軽量なフレームワークであり、開発者がMVPとして割り切って構築すれば、SPAに対応したMVPを実装するのに、3週間ほどでMVP構築が可能です。\n",
    "- Django: \n",
    "    - 豊富な機能を持っており、多機能なプロジェクトに適していますが、プロジェクトの構造や設定に制約があるため、SPAに対応したMVPを実装するのに１ヶ月ほどかかる可能性があります。"
   ]
  },
  {
   "attachments": {},
   "cell_type": "markdown",
   "metadata": {},
   "source": [
    ">フレームワークの自由度（守備範囲とユースケース）"
   ]
  },
  {
   "attachments": {},
   "cell_type": "markdown",
   "metadata": {},
   "source": [
    "- Streamlit\n",
    "    - 守備範囲：StreamlitではPythonスクリプトを使って短時間でダッシュボード表示などのウェブアプリケーションを作成でき、SPA(SinglePageApplication)に対応したMVPを実装することに特化しています。\n",
    "    - ユースケース：データ分析結果の可視化や、機械学習モデルのインタラクティブなデモ、プロトタイピングに適しています。\n",
    "- Flask\n",
    "    - 守備範囲：Flaskはシンプルな構造であるため、開発者が必要な機能を効率的に実装できます。開発者が自由にアプリケーション構造やモジュールをカスタマイズできるため、高い自由度があります\n",
    "    - ユースケース：小規模から中規模のアプリケーション、API開発、個人プロジェクト、独自の機能を持つ特殊なアプリケーションに適しています。\n",
    "- Django\n",
    "    - 守備範囲：Djangoは豊富な機能を持っているため、開発者が必要な機能を見つけ出すために多少時間がかかるかもしれません。しかし、一度機能を理解すれば効率的に実装できます。\n",
    "    - ユースケース：大規模なウェブアプリケーション、企業向けアプリケーション、CMS、ECサイト、SNSサイトなどに適しています。"
   ]
  },
  {
   "attachments": {},
   "cell_type": "markdown",
   "metadata": {},
   "source": [
    ">使われている日本のサービス例"
   ]
  },
  {
   "attachments": {},
   "cell_type": "markdown",
   "metadata": {},
   "source": [
    "- Streamlit: AI関連のスタートアップやデータ分析結果の可視化に使用されています。  \n",
    "- Flask: クラウドワークスやnoteなどのスタートアップで使用されています。\n",
    "- Django: LINE、クックパッド、ドワンゴ、楽天など、多くの日本の大規模サービスで使用されています。"
   ]
  },
  {
   "attachments": {},
   "cell_type": "markdown",
   "metadata": {},
   "source": [
    ">初学者がたどるべき学習ロードマップ"
   ]
  },
  {
   "attachments": {},
   "cell_type": "markdown",
   "metadata": {},
   "source": [
    "Streamlit: 以下の手順がおすすめです"
   ]
  },
  {
   "attachments": {},
   "cell_type": "markdown",
   "metadata": {},
   "source": [
    "1. 公式ドキュメントの読み込み\n",
    "1. チュートリアルの実施\n",
    "1. サンプルプロジェクトの作成\n",
    "1. 独自のプロジェクトの開発"
   ]
  },
  {
   "attachments": {},
   "cell_type": "markdown",
   "metadata": {},
   "source": [
    "Flask: 以下の手順がおすすめです"
   ]
  },
  {
   "attachments": {},
   "cell_type": "markdown",
   "metadata": {},
   "source": [
    "1. Pythonの基本学習\n",
    "1. 公式ドキュメントの読み込み or Udemyで学習\n",
    "1. チュートリアルの実施\n",
    "1. 独自のプロジェクトの開発。"
   ]
  },
  {
   "attachments": {},
   "cell_type": "markdown",
   "metadata": {},
   "source": [
    "Django: 以下の手順がおすすめです"
   ]
  },
  {
   "attachments": {},
   "cell_type": "markdown",
   "metadata": {},
   "source": [
    "1. Pythonの基本学習\n",
    "1. 公式ドキュメントの読み込み or Udemyで学習\n",
    "1. チュートリアルの実施\n",
    "1. 独自のプロジェクトの開発。"
   ]
  },
  {
   "attachments": {},
   "cell_type": "markdown",
   "metadata": {},
   "source": [
    ">まとめ"
   ]
  },
  {
   "attachments": {},
   "cell_type": "markdown",
   "metadata": {},
   "source": [
    "それぞれのフレームワークは異なる目的と特性を持っており、プロジェクトの要件に応じて適切なものを選択することが重要です。  \n",
    "Streamlitはデータ分析や機械学習に特化し、短時間でインタラクティブなアプリケーションを作成できます。一方、FlaskとDjangoはウェブアプリケーションの開発に適しており、Flaskは軽量で自由度が高く、Djangoは機能豊富で大規模なプロジェクトに向いています。"
   ]
  },
  {
   "attachments": {},
   "cell_type": "markdown",
   "metadata": {},
   "source": [
    "#### 結論：Streamlitでまずはやってみる"
   ]
  },
  {
   "attachments": {},
   "cell_type": "markdown",
   "metadata": {},
   "source": [
    "この講義目的では最小限の作業量でアプリを作成することです！  \n",
    "以上の理由でstreamlitを選択してwebアプリを作ってみましょう！"
   ]
  },
  {
   "attachments": {},
   "cell_type": "markdown",
   "metadata": {},
   "source": [
    "## 3.2 基本実装"
   ]
  },
  {
   "attachments": {},
   "cell_type": "markdown",
   "metadata": {},
   "source": [
    "基本実装編のjupyterファイルに続きます。"
   ]
  },
  {
   "attachments": {},
   "cell_type": "markdown",
   "metadata": {},
   "source": [
    "## 3.3 応用実装"
   ]
  },
  {
   "attachments": {},
   "cell_type": "markdown",
   "metadata": {},
   "source": [
    "応用実装編のjupyterファイルに続きます。"
   ]
  },
  {
   "attachments": {},
   "cell_type": "markdown",
   "metadata": {},
   "source": [
    "## 3.4 (Next Actionのために）自分でWebアプリを作る思考プロセスを学ぶ"
   ]
  },
  {
   "attachments": {},
   "cell_type": "markdown",
   "metadata": {},
   "source": [
    "\n",
    "\n",
    "### MVPを創る（0→1\n",
    "\n",
    "- 作りたいものを決める（箇条書き・手書き\n",
    "- 最低限の流れを考える（手書きで流れ書く\n",
    "- 最も小さい単位で流れを作ってみる（手書き→コーディング(Jupyter\n",
    "- 徐々に大きくする（コーディング(Jupyter→VS Code"
   ]
  },
  {
   "attachments": {},
   "cell_type": "markdown",
   "metadata": {},
   "source": [
    "### 3.4.1 アプリ実装\n",
    "\n",
    "- アーキテクチャを考える（手書き\n",
    "    1. フロント～バックDBまでのデータの移動を考える\n",
    "    2. 入力方法（フロントを考える）\n",
    "    3. やりたい事に近い技術的な解決するAPIやライブラリを探す\n",
    "    4. 解決方法を模索\n",
    "    5. ライブラリやAPIの仕様を見る\n",
    "    6. 土台のフレームワークと動作のAPIを別々で考えて、結合し、webアプリ完成を目指す\n",
    "    7. 仕様決定\n",
    "    8. 実装するサーバーを考える\n",
    "- コーディング"
   ]
  },
  {
   "attachments": {},
   "cell_type": "markdown",
   "metadata": {},
   "source": [
    "### 3.4.2 デプロイ\n",
    "\n",
    "- 簡易orテスト環境\n",
    "    - netlify\n",
    "    - streamlit cloud\n",
    "    - vercel\n",
    "- 本番環境\n",
    "    - AWS\n",
    "    - Azure\n",
    "    - GCP"
   ]
  },
  {
   "attachments": {},
   "cell_type": "markdown",
   "metadata": {},
   "source": [
    "<img src=\"pic/img_Cloud.jpg\">"
   ]
  },
  {
   "attachments": {},
   "cell_type": "markdown",
   "metadata": {},
   "source": [
    "参考：[https://www.imagazine.co.jp/synergy-cloud-survey-2024-2q/]https://www.imagazine.co.jp/synergy-cloud-survey-2024-2q/)\n",
    "\n",
    "※その他はwordpressサーバー"
   ]
  },
  {
   "attachments": {},
   "cell_type": "markdown",
   "metadata": {},
   "source": [
    "## 3.5 まとめ\n",
    "\n",
    "- Webアプリの知識・経験０からやってみてどうでしたか？感想やできるようになったことをノートかNotionにまとめましょう\n",
    "    - APIやマイクロフレームワークでの開発が早い事を体験\n",
    "    - 構成から公開まで一通りできるようになった\n",
    "    - MVPぐらいなら余裕になった\n",
    "- 自分で手を動かすことの大事さを学べましたね！\n",
    "- いま作りたいものを書き溜めておきましょう！"
   ]
  }
 ],
 "metadata": {
  "kernelspec": {
   "display_name": "base",
   "language": "python",
   "name": "python3"
  },
  "language_info": {
   "codemirror_mode": {
    "name": "ipython",
    "version": 3
   },
   "file_extension": ".py",
   "mimetype": "text/x-python",
   "name": "python",
   "nbconvert_exporter": "python",
   "pygments_lexer": "ipython3",
   "version": "3.8.16"
  },
  "orig_nbformat": 4,
  "vscode": {
   "interpreter": {
    "hash": "f9615d5aa5a330c24de68476d8cc9e13337aa201710c2e0802369a06b82c4cd2"
   }
  }
 },
 "nbformat": 4,
 "nbformat_minor": 2
}
