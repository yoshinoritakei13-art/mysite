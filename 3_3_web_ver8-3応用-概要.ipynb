{
 "cells": [
  {
   "attachments": {},
   "cell_type": "markdown",
   "metadata": {},
   "source": [
    "# 3webアプリ作成"
   ]
  },
  {
   "attachments": {},
   "cell_type": "markdown",
   "metadata": {},
   "source": [
    "目次：https://docs.google.com/document/d/1eDw9PK5Ft0vImu81e7oERB_q-dZvxbFe8bGetZBgEEg/edit"
   ]
  },
  {
   "cell_type": "markdown",
   "metadata": {},
   "source": []
  },
  {
   "attachments": {},
   "cell_type": "markdown",
   "metadata": {},
   "source": [
    "## 3.3 応用実装"
   ]
  },
  {
   "attachments": {},
   "cell_type": "markdown",
   "metadata": {},
   "source": [
    "### 3.3.1 応用アプリ実装の概要"
   ]
  },
  {
   "attachments": {},
   "cell_type": "markdown",
   "metadata": {},
   "source": [
    ">なぜ実際に作ってみるのか？"
   ]
  },
  {
   "attachments": {},
   "cell_type": "markdown",
   "metadata": {},
   "source": [
    "「理論上わかる」と「作れる」の間には大きな壁があるからです。  \n",
    "やったことがないのは、英語が話せない英語教師と同じで、何もやらなければ身につかないのです。  \n",
    "例えば、運転を経験してみれば、意外にも簡単なことに気付く事と近いです！  \n",
    "\n",
    "今までは手元で動くアプリを作ってきましたが、サービスとしてアプリを作る事を考えると、他の人からアクセスしてもらって利用してもらう必要があります。\n",
    "steamlitを活用したMVPを作ることで、今後不足している技術や知識、何について学ぶ必要があるのかが明確にすることが目的です。"
   ]
  },
  {
   "attachments": {},
   "cell_type": "markdown",
   "metadata": {},
   "source": [
    ">選定基準と進め方"
   ]
  },
  {
   "attachments": {},
   "cell_type": "markdown",
   "metadata": {},
   "source": [
    "　■ 天気アプリ  \n",
    "    　- まずは簡単にAPIを利用してアプリケーションを構築します。  \n",
    "    　- 天気アプリは簡単で、初めてのアプリ作成でよく使われます。  \n",
    "  \n",
    "\n",
    "　■ GPTアプリ  \n",
    "    　- 流行りのGPTを利用してのアプリ構築\n",
    "\n",
    "  \n",
    "　■ Perplexityアプリ  \n",
    "    　- 流行りのPerplexityを利用してのアプリ構築\n",
    "    　- 敢えて未完成な状態で止まっています！任意ですが、見やすく完成させてみてください。"
   ]
  },
  {
   "attachments": {},
   "cell_type": "markdown",
   "metadata": {},
   "source": [
    ">今回のゴール\n",
    "- 自分で作ってみる\n",
    "- 今後作りたいものがでてきたときにブラックボックス→調べられるようになる（適切な問いを立てられる）"
   ]
  }
 ],
 "metadata": {
  "kernelspec": {
   "display_name": "tech0",
   "language": "python",
   "name": "python3"
  },
  "language_info": {
   "codemirror_mode": {
    "name": "ipython",
    "version": 3
   },
   "file_extension": ".py",
   "mimetype": "text/x-python",
   "name": "python",
   "nbconvert_exporter": "python",
   "pygments_lexer": "ipython3",
   "version": "3.8.16"
  },
  "orig_nbformat": 4,
  "vscode": {
   "interpreter": {
    "hash": "14498c2693dbacc748b33ada8a31e4cf5c4288efbd86c8d200c58bb6fc8893c8"
   }
  }
 },
 "nbformat": 4,
 "nbformat_minor": 2
}
