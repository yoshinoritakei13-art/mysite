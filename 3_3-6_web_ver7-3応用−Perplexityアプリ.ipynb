{
 "cells": [
  {
   "attachments": {},
   "cell_type": "markdown",
   "metadata": {},
   "source": [
    "# 3webアプリ作成"
   ]
  },
  {
   "attachments": {},
   "cell_type": "markdown",
   "metadata": {},
   "source": [
    "目次：https://docs.google.com/document/d/1eDw9PK5Ft0vImu81e7oERB_q-dZvxbFe8bGetZBgEEg/edit"
   ]
  },
  {
   "attachments": {},
   "cell_type": "markdown",
   "metadata": {},
   "source": [
    "## 3.3 応用実装"
   ]
  },
  {
   "attachments": {},
   "cell_type": "markdown",
   "metadata": {},
   "source": [
    "#### ⑤Perplexityアプリ\n",
    "\n",
    ">アプリの概要\n",
    "\n",
    "<img src=\"pic/img_perplexiyt.png\">\n",
    "\n",
    ">動作を構成してる部品の紹介（APIやライブラリ）\n",
    "API（参考リンクは必ず確認）\n",
    "- Perplexity\n",
    "    - 目的：Perplexityによるネット検索を使う。\n",
    "    - 参考：https://docs.perplexity.ai/guides/getting-started\n",
    "\n",
    "ライブラリ\n",
    "- streamlit\n",
    "    - 目的：chatGPTにリクエストをするためのUIを表示するためのフロントエンドを生成する\n",
    "- openai\n",
    "    - 目的：openAIのchatGPTを活用するためのライブラリ\n",
    "\n",
    ">ライブラリのインストール\n",
    "\n",
    "ライブラリ\n",
    "- streamlit\n",
    "    - pip install streamlit\n",
    "- openai\n",
    "    - pip install openai\n",
    "\n",
    "\n",
    ">ライブラリの公式ドキュメントの見方や使い方を説明\n",
    "\n",
    "- API\n",
    "    - Peplexityを活用するためのapi_keyの取得\n",
    "        - Perplexityのapi_keyが必要なので、登録してapi_keyを取得しましょう。\n",
    "        - 参考：https://docs.perplexity.ai/guides/getting-started\n",
    "\n",
    "\n",
    "ライブラリ\n",
    "\n",
    "- streamlit\n",
    "    - インストール方法はget startページで確認\n",
    "    - 参考：https://docs.streamlit.io/library/get-started/installation\n",
    "    - st.titleなどはコンポーネントページから確認出来る\n",
    "    - 参考：https://streamlit.io/components\n",
    "- Perplexity\n",
    "    - 今回はsonar-proのモデルを使って記事を書かせます。\n",
    "    - client.chat.completions.createを使ってAIにリクエストします。\n",
    "    - オプションとしてmodelに使用するAIモデルを指定。messagesに送信する会話内容を記載します。\n",
    "    - 参考：https://docs.perplexity.ai/api-reference/chat-completions\n",
    "\n",
    "\n",
    "\n"
   ]
  },
  {
   "attachments": {},
   "cell_type": "markdown",
   "metadata": {},
   "source": [
    ">それぞれの機能をjupyterで動く最小限を作る"
   ]
  },
  {
   "attachments": {},
   "cell_type": "markdown",
   "metadata": {},
   "source": [
    "2.それぞれ機能を解説"
   ]
  },
  {
   "attachments": {},
   "cell_type": "markdown",
   "metadata": {},
   "source": [
    "2.1 chatGPTの仕様"
   ]
  },
  {
   "attachments": {},
   "cell_type": "markdown",
   "metadata": {},
   "source": [
    "PerplexityのAPIは許可制のため、必ずAPIキーが必要です。  \n",
    "（参考）https://docs.perplexity.ai/guides/getting-started"
   ]
  },
  {
   "attachments": {},
   "cell_type": "markdown",
   "metadata": {},
   "source": [
    "2.2 Perplexityの使い方"
   ]
  },
  {
   "attachments": {},
   "cell_type": "markdown",
   "metadata": {},
   "source": [
    "client.chat.completions.createに必要な項目を設定してコードを実行するだけです。\n",
    "\n",
    "以下が簡易的な設定の例です。\n",
    "- model：使うAIモデルを指定\n",
    "- messages：会話の内容をしていします。"
   ]
  },
  {
   "cell_type": "code",
   "execution_count": 2,
   "metadata": {},
   "outputs": [
    {
     "name": "stdout",
     "output_type": "stream",
     "text": [
      "[{'role': 'system', 'content': 'You are an artificial intelligence assistant and you need to engage in a helpful, detailed, polite conversation with a user.'}, {'role': 'user', 'content': 'ガス業界について、詳細な情報を教えてください。'}]\n"
     ]
    }
   ],
   "source": [
    "from openai import OpenAI\n",
    "\n",
    "YOUR_API_KEY = \"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\"  # ご自身の API キーに置き換えてください\n",
    "client = OpenAI(api_key=YOUR_API_KEY, base_url=\"https://api.perplexity.ai\")\n",
    "\n",
    "messages = [\n",
    "        {\n",
    "            \"role\": \"system\",\n",
    "            \"content\": (\n",
    "                \"You are an artificial intelligence assistant and you need to \"\n",
    "                \"engage in a helpful, detailed, polite conversation with a user.\"\n",
    "            ),\n",
    "        },\n",
    "        {\n",
    "            \"role\": \"user\",\n",
    "            \"content\": (\n",
    "                f\"ガス業界について、詳細な情報を教えてください。\"\n",
    "            ),\n",
    "        },\n",
    "    ]\n",
    "\n",
    "response = client.chat.completions.create(\n",
    "            model=\"sonar\",\n",
    "            messages=messages,\n",
    ")\n",
    "\n",
    "print(messages)"
   ]
  },
  {
   "attachments": {},
   "cell_type": "markdown",
   "metadata": {},
   "source": [
    "以上がPerplexityのAPIの呼び出し方です。\n"
   ]
  },
  {
   "attachments": {},
   "cell_type": "markdown",
   "metadata": {},
   "source": [
    ">streamlitに実装する場合の使う機能"
   ]
  },
  {
   "cell_type": "markdown",
   "metadata": {},
   "source": [
    "ここからは、これまで習った内容をもとに「参考(pyファイル)」内の「3-6_Perplexityアプリ」のコードを解読し、\n",
    "アプリの実装を進めてください。"
   ]
  },
  {
   "cell_type": "markdown",
   "metadata": {},
   "source": [
    ">（出る杭＆Giver向け発展課題（任意））"
   ]
  },
  {
   "cell_type": "markdown",
   "metadata": {},
   "source": [
    "この課題は敢えて未完成な状態（API呼出し後のデータ表示の工夫などがされていない）で止まっています。\n",
    "ご自身でresponseに格納されたデータから必要な部分のみを抜き出し、\n",
    "・perplexityからの返答内容（テキスト）\n",
    "・perplexityが参考にしているリンク\n",
    "を表示してください。\n",
    "そして、このファイルに解説を記載し、宿題の該当チャンネルで皆さんにシェアしてください。"
   ]
  }
 ],
 "metadata": {
  "kernelspec": {
   "display_name": "python311",
   "language": "python",
   "name": "python3"
  },
  "language_info": {
   "codemirror_mode": {
    "name": "ipython",
    "version": 3
   },
   "file_extension": ".py",
   "mimetype": "text/x-python",
   "name": "python",
   "nbconvert_exporter": "python",
   "pygments_lexer": "ipython3",
   "version": "3.11.11"
  },
  "orig_nbformat": 4
 },
 "nbformat": 4,
 "nbformat_minor": 2
}
